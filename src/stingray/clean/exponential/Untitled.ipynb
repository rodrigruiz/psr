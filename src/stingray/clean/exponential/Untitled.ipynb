{
 "cells": [
  {
   "cell_type": "code",
   "execution_count": null,
   "id": "91f3491a-1b97-4f36-b338-35c0d3cd7fe2",
   "metadata": {
    "tags": []
   },
   "outputs": [],
   "source": [
    "import numpy as np\n",
    "import matplotlib.pyplot as plt\n",
    "%matplotlib inline"
   ]
  },
  {
   "cell_type": "code",
   "execution_count": null,
   "id": "b7915684-680f-492e-ab2d-597052253598",
   "metadata": {},
   "outputs": [],
   "source": [
    "x = np.arange(58000, 59000, 0.1)"
   ]
  },
  {
   "cell_type": "code",
   "execution_count": null,
   "id": "51b6bd3d-78c7-44d2-95d8-8b5844b474cf",
   "metadata": {
    "tags": []
   },
   "outputs": [],
   "source": [
    "y = np.exp(- (x + b) * c) * a"
   ]
  },
  {
   "cell_type": "code",
   "execution_count": null,
   "id": "0b529ac2-7a0e-4c4a-b699-837326332379",
   "metadata": {
    "tags": []
   },
   "outputs": [],
   "source": [
    "a = 5\n",
    "b = -58000\n",
    "c = 1/50\n"
   ]
  },
  {
   "cell_type": "code",
   "execution_count": null,
   "id": "f4f592ac-9811-4036-ace3-a965c6df01ce",
   "metadata": {
    "tags": []
   },
   "outputs": [],
   "source": [
    "print(y)"
   ]
  },
  {
   "cell_type": "code",
   "execution_count": null,
   "id": "302b97d5-fab7-41d7-be8c-d260536b54c4",
   "metadata": {},
   "outputs": [],
   "source": [
    "plt.plot(x, y)\n",
    "plt.show()"
   ]
  },
  {
   "cell_type": "code",
   "execution_count": null,
   "id": "a656520b-839a-4e89-a8d0-8b8fa1f10819",
   "metadata": {},
   "outputs": [],
   "source": []
  }
 ],
 "metadata": {
  "kernelspec": {
   "display_name": "stingray",
   "language": "python",
   "name": "stingray"
  },
  "language_info": {
   "codemirror_mode": {
    "name": "ipython",
    "version": 3
   },
   "file_extension": ".py",
   "mimetype": "text/x-python",
   "name": "python",
   "nbconvert_exporter": "python",
   "pygments_lexer": "ipython3",
   "version": "3.11.0"
  }
 },
 "nbformat": 4,
 "nbformat_minor": 5
}
