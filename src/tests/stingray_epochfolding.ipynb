{
 "cells": [
  {
   "cell_type": "code",
   "execution_count": null,
   "metadata": {
    "tags": []
   },
   "outputs": [],
   "source": [
    "# %load_ext autoreload\n",
    "# %autoreload 2\n",
    "# %matplotlib notebook\n",
    "\n",
    "import numpy as np\n",
    "from stingray.pulse.search import epoch_folding_search, z_n_search\n",
    "import matplotlib.pyplot as plt\n",
    "import seaborn as sb\n",
    "import matplotlib as mpl\n",
    "mpl.rcParams['figure.figsize'] = (10, 6)"
   ]
  },
  {
   "cell_type": "markdown",
   "metadata": {},
   "source": [
    "# Simulate a dataset\n",
    "\n",
    "Let us simulate a pulsar: we create a sinusoidal light curve and use Stingray's event simulator (in `Eventlist.simulate_times`) to simulate an event list with that light curve."
   ]
  },
  {
   "cell_type": "code",
   "execution_count": null,
   "metadata": {
    "tags": []
   },
   "outputs": [],
   "source": [
    "from generate_split_timeseries import generate_pulse_train_gauss, gauss\n",
    "\n",
    "def sinusoid(times, frequency, baseline, amplitude, phase):\n",
    "    return baseline + amplitude * np.sin(2 * np.pi * (frequency * times + phase))\n",
    "\n",
    "def gauss(x, mu=0, sigma=1):\n",
    "    '''returns a normalized gaussian function.'''\n",
    "    y = 1/np.sqrt(2*np.pi*sigma**2) * np.exp(-(x-mu)**2/2/sigma**2)\n",
    "    return y\n",
    "\n",
    "def generate_pulse_train_gauss(time, P, P_0, sigma, a):\n",
    "    '''generates a pulse train in the entire 'time' interval with period P.\n",
    "each pulse is represented by a gaussian function with amplitude a and sigma.\n",
    "returns: np.array containing pulse train'''\n",
    "    delta_t = time[1] - time[0]\n",
    "    # Extract values from the Time object\n",
    "    t_values = time\n",
    "    # Rescale phase if necessary, so the complete timeseries is filled with pulses: # Maps the input P_0 to the interval [-P/2, P/2)\n",
    "    P_0 = (P_0 + P/2) % P - P/2\n",
    "    print(f'Phase Offset P_0 = {P_0}')\n",
    "\n",
    "    # Number of pulses\n",
    "    # The floor of the scalar x is the largest integer i, such that i <= x\n",
    "    N = int(np.floor((time[-1] - time[0]) / P)) + 2\n",
    "    print(f\"Number of pulses N = {N}\")\n",
    "    \n",
    "    # Index of the phase\n",
    "    idx_P_0 = int(np.round(P_0 / delta_t))\n",
    "    print(f\"idx_P_0={idx_P_0}\")\n",
    "    # Index width of one pulse\n",
    "    idx_P = int(np.round(P / delta_t))\n",
    "    print(f\"idx_P={idx_P}\")\n",
    "    # Initialize signal\n",
    "    PulseTrain = np.zeros(len(time))\n",
    "    # Loop over all Pulses\n",
    "    for i in range(0, N):\n",
    "        # Calculate lower and upper index for the pulse windows\n",
    "        idx_l = idx_P_0 + idx_P // 2 + (i - 1) * idx_P\n",
    "        idx_u = idx_P_0 + idx_P // 2 + i * idx_P\n",
    "        #print(f\"idx_l={idx_l}  idx_u={idx_u}\")\n",
    "        # Set first index to zero for cut off pulse windows at the beginning\n",
    "        if idx_l < 0:\n",
    "            idx_l = 0\n",
    "        # Calculate pulse peaks for each pulse window\n",
    "        PulseTrain[idx_l:idx_u] += a * gauss(t_values[idx_l:idx_u], i * P + P_0 + t_values[0], sigma)\n",
    "    return PulseTrain"
   ]
  },
  {
   "cell_type": "code",
   "execution_count": null,
   "metadata": {
    "tags": []
   },
   "outputs": [],
   "source": [
    "from stingray import Lightcurve\n",
    "\n",
    "'''\n",
    "period = 1.203501\n",
    "mean_countrate = 50\n",
    "pulsed_fraction = 0.2\n",
    "bin_time = 0.01\n",
    "obs_length = 3000\n",
    "''' \n",
    "period = 9.6 # s\n",
    "P_0 = 0\n",
    "mean_countrate = 50\n",
    "#pulsed_fraction = 0.2\n",
    "sigma = 0.03\n",
    "bin_time = 0.1\n",
    "obs_length = 1000\n",
    "\n",
    "\n",
    "t = np.arange(0, obs_length, bin_time)\n",
    "\n",
    "# The continuous light curve\n",
    "#counts = sinusoid(t, 1 / period, mean_countrate, 0.5 * mean_countrate * pulsed_fraction, 0) * bin_time\n",
    "counts = generate_pulse_train_gauss(t, period, P_0, mean_countrate )\n",
    "print(counts)\n",
    "lc = Lightcurve(t, counts, gti=[[-bin_time / 2, obs_length + bin_time / 2]],\n",
    "                dt=bin_time)"
   ]
  },
  {
   "cell_type": "code",
   "execution_count": null,
   "metadata": {
    "tags": []
   },
   "outputs": [],
   "source": [
    "from stingray.events import EventList\n",
    "\n",
    "# use the light curve above to simulate an event list for this pulsar.\n",
    "events = EventList()\n",
    "events.simulate_times(lc)"
   ]
  },
  {
   "cell_type": "markdown",
   "metadata": {},
   "source": [
    "# Pulsation search with epoch folding.\n",
    "\n",
    "Let us assume we have already an estimate of the pulse period, for example because we found a candidate in the power density spectrum with a period of ~1.2.\n",
    "We search around that period with the epoch folding.\n",
    "\n",
    "Epoch folding consists of cutting the light curve at every pulse period and summing up all the intervals obtained in this way. We get an average pulse profile. In this example, where the pulse was plotted twice for visual clarity. If the candidate pulse frequency was even slightly incorrect, we would have obtained a much shallower pulse profile, or no pulse profile at all."
   ]
  },
  {
   "cell_type": "code",
   "execution_count": null,
   "metadata": {
    "tags": []
   },
   "outputs": [],
   "source": [
    "from stingray.pulse.pulsar import fold_events\n",
    "from stingray.pulse.search import plot_profile\n",
    "nbin = 32\n",
    "\n",
    "ph, profile, profile_err = fold_events(events.time, 1/period, nbin=nbin)\n",
    "_ = plot_profile(ph, profile)\n",
    "\n",
    "ph, profile, profile_err = fold_events(events.time, 1/1.1, nbin=nbin)\n",
    "_ = plot_profile(ph, profile)"
   ]
  },
  {
   "cell_type": "markdown",
   "metadata": {},
   "source": [
    "Therefore, typically we try a number of frequencies around the candidate we found with the power spectrum or other means, and search for the frequency that gives the \"best\" pulsed profile. \n",
    "How do we evaluate this best frequency?\n",
    "We use the chi squared statistics. \n",
    "\n",
    "We use a flat pulsed profile (no pulsation) as model, and we calculate the chi square of the actual pulsed profile with respect to this flat model:\n",
    "\n",
    "$$\n",
    "S = \\sum_i\\frac{(P_i - \\overline{P})^2}{\\sigma^2}\n",
    "$$\n",
    "\n",
    "If there is no pulsation, the chi squared will assume a random value distributed around the number of degrees of freedom $n - 1$ (where $n$ is the number of bins in the profile) with a well defined statistical distribution ($\\chi^2_{n - 1}$). If there is pulsation, the value will be much larger.\n",
    "Stingray has a function that does this: `stingray.pulse.search.epoch_folding_search`.\n",
    "\n",
    "For the frequency resolution of the periodogram, one usually chooses _at least_ the same frequency resolution of the FFT, i. e., $df_{\\rm min}=1/(t_1 - t_0)$. In most cases, a certain degree of oversampling is used."
   ]
  },
  {
   "cell_type": "code",
   "execution_count": null,
   "metadata": {},
   "outputs": [],
   "source": [
    "# We will search for pulsations over a range of frequencies around the known pulsation period.\n",
    "df_min = 1/obs_length\n",
    "oversampling=15\n",
    "df = df_min / oversampling\n",
    "frequencies = np.arange(1/period - 200 * df, 1/period + 200 * df, df)\n",
    "\n",
    "freq, efstat = epoch_folding_search(events.time, frequencies, nbin=nbin)\n",
    "\n",
    "# ---- PLOTTING --------\n",
    "plt.figure()\n",
    "plt.plot(freq, efstat, label='EF statistics')\n",
    "plt.axhline(nbin - 1, ls='--', lw=3, color='k', label='n - 1')\n",
    "plt.axvline(1/period, lw=3, alpha=0.5, color='r', label='Correct frequency')\n",
    "plt.xlabel('Frequency (Hz)')\n",
    "plt.ylabel('EF Statistics')\n",
    "_ = plt.legend()"
   ]
  },
  {
   "cell_type": "markdown",
   "metadata": {},
   "source": [
    "A peak is definitely there. \n",
    "Far from the peak, the periodogram follows approximately a **$\\chi^2$ distribution with $n - 1$ degrees of freedom**, where $n$ is the number of bins in the pulse profile used to calculate the statistics. In fact, its mean is $n-1$ as shown in the figure. \n",
    "\n",
    "But close to the correct frequency, as described in Leahy et al. 1983, 1987 the peak in the epoch folding periodogram has the shape of a **sinc squared function** (whose secondary lobes are in this case barely visible above noise)."
   ]
  },
  {
   "cell_type": "markdown",
   "metadata": {},
   "source": [
    "# Z-squared search\n",
    "The epoch folding statistics has no information on the actual shape of the profile. \n",
    "\n",
    "A better method is the **$Z^2$ statistics** (Buccheri et al. 1983), which is conceptually similar to the Epoch folding but has high values when the signal is well described by a small number of **sinusoidal harmonics**. \n",
    "\n",
    "$Z^2_n = \\dfrac{2}{N} \\sum_{k=1}^n \\left[{\\left(\\sum_{j=1}^N \\cos k \\phi_j\\right)}^2 + {\\left(\\sum_{j=1}^N \\sin k \\phi_j\\right)}^2\\right]$\n",
    "\n",
    "Where $N$ is the number of photons, $n$ is the number of harmonics, $\\phi_j$ are the phases corresponding to the event arrival times $t_j$ ($\\phi_j = \\nu t_j$, where $\\nu$ is the pulse frequency).\n",
    "\n",
    "The $Z_n^2$ statistics defined in this way, far from the pulsed profile, follows a $\\chi^2_n$ distribution, where $n$ is the number of harmonics this time.\n",
    "\n",
    "Stingray implements the $Z$ search in `stingray.pulse.search.z_n_search`.\n",
    "The standard $Z^2$ search calculates the phase of each photon and calculates the sinusoidal functions above for each photon. This is very computationally expensive if the number of photons is high. Therefore, in Stingray, the search is performed by binning the pulse profile first and using the phases of the folded profile in the formula above, multiplying the squared sinusoids of the phases of the pulse profile by a weight corresponding to the number of photons at each phase.\n",
    "\n",
    "$Z^2_n = \\dfrac{2}{\\sum_j{w_j}} \\sum_{k=1}^n \\left[{\\left(\\sum_{j=1}^m w_j \\cos k \\phi_j\\right)}^2 + {\\left(\\sum_{j=1}^m w_j \\sin k \\phi_j\\right)}^2\\right]$\n",
    "\n",
    "Since the sinusoids are only executed on a small number of bins, while the epoch folding procedure just consists of a very fast histogram-like operation, the speedup of this new formula is obvious. Care must be put into the choice of the number of bins, in order to maintain a good approximation even when the number of harmonics is high. As a rule of thumb, use _a number of bins at least 10 times larger than the number of harmonics_."
   ]
  },
  {
   "cell_type": "code",
   "execution_count": null,
   "metadata": {},
   "outputs": [],
   "source": [
    "# We will search for pulsations over a range of frequencies around the known pulsation period.\n",
    "nharm = 1\n",
    "freq, zstat = z_n_search(events.time, frequencies, nbin=nbin, nharm=nharm)\n",
    "\n",
    "# ---- PLOTTING --------\n",
    "plt.figure()\n",
    "plt.plot(freq, (zstat - nharm), label='$Z_2$ statistics')\n",
    "plt.plot(freq, efstat - nbin + 1, color='gray', label='EF statistics', alpha=0.5)\n",
    "\n",
    "plt.axvline(1/period, color='r', lw=3, alpha=0.5, label='Correct frequency')\n",
    "plt.xlim([frequencies[0], frequencies[-1]])\n",
    "plt.xlabel('Frequency (Hz)')\n",
    "plt.ylabel('Statistics - d.o.f.')\n",
    "plt.legend()\n",
    "plt.figure(figsize=(15, 5))\n",
    "plt.plot(freq, (zstat - nharm), label='$Z_2$ statistics')\n",
    "plt.plot(freq, efstat - nbin + 1, color='gray', label='EF statistics', alpha=0.5)\n",
    "\n",
    "plt.axvline(1/period, color='r', lw=3, alpha=0.5, label='Correct frequency')\n",
    "plt.xlabel('Frequency (Hz)')\n",
    "plt.ylabel('Statistics - d.o.f. (Zoom)')\n",
    "\n",
    "plt.ylim([-15, 15])\n",
    "_ = plt.xlim([frequencies[0], frequencies[-1]])\n"
   ]
  },
  {
   "cell_type": "markdown",
   "metadata": {},
   "source": [
    "# Thresholding\n",
    "\n",
    "When can a peak in the EF or $Z_n^2$ periodogram be considered a pulsation?\n",
    "\n",
    "Since both the EF and $Z_n^2$ of noise follow precise statistical distributions ($\\chi^2_{\\rm nbin}$ in one case, $\\chi^2_n$ in the other), we can use the inverse survival functions of these statistical distributions to find the peaks that are not expected by noise.\n",
    "\n",
    "In Stingray, the thresholds are defined in `stingray.stats.fold_detection_level` and `stingray.stats.z2_n_detection_level` respectively.\n",
    "\n",
    "The `ntrial` parameter should be set to an estimate of the statistically independent frequencies in the periodogram. A good estimate can be \n",
    "\n",
    "$$N_{\\rm trial} \\sim (f_{\\rm max} - f_{\\rm min}) / df_{\\rm min} =(f_{\\rm max} - f_{\\rm min}) (t_1 - t_0)$$,\n",
    "where $f_{\\rm min}$ and $f_{\\rm max}$ are the maximum and minimum frequencies of the periodogram, $df_{\\rm min}$ was defined above and $t_0$ ans $t_1$ the start and end of the observation.\n",
    "\n",
    "Moreover, the `stingray.pulse.search.search_best_peaks` helps finding the best value for nearby candidates."
   ]
  },
  {
   "cell_type": "code",
   "execution_count": null,
   "metadata": {},
   "outputs": [],
   "source": [
    "from stingray.pulse.search import search_best_peaks\n",
    "from stingray.stats import fold_detection_level, z2_n_detection_level\n",
    "\n",
    "ntrial = (frequencies[-1] - frequencies[0]) / df_min\n",
    "z_detlev = z2_n_detection_level(n=1, epsilon=0.001, ntrial=len(freq))\n",
    "ef_detlev = fold_detection_level(nbin, epsilon=0.001, ntrial=len(freq))\n",
    "\n",
    "cand_freqs_ef, cand_stat_ef = search_best_peaks(freq, efstat, ef_detlev)\n",
    "cand_freqs_z, cand_stat_z = search_best_peaks(freq, zstat, z_detlev)\n",
    "\n",
    "# ---- PLOTTING --------\n",
    "plt.figure()\n",
    "plt.axhline(z_detlev - nharm, label='$Z^2_1$ det. lev.')\n",
    "plt.axhline(ef_detlev - nbin + 1, label='EF det. lev.', color='gray')\n",
    "\n",
    "plt.plot(freq, (zstat - nharm), label='$Z^2_1$ statistics')\n",
    "plt.plot(freq, efstat - nbin + 1, color='gray', label='EF statistics', alpha=0.5)\n",
    "\n",
    "for c in cand_freqs_ef:\n",
    "    plt.axvline(c, ls='-.', label='EF Candidate', zorder=10)\n",
    "for c in cand_freqs_z:\n",
    "    plt.axvline(c, ls='--', label='$Z^2_1$ Candidate', zorder=10)\n",
    "    \n",
    "plt.axvline(1/period, color='r', lw=3, alpha=0.5, label='Correct frequency')\n",
    "plt.xlim([frequencies[0], frequencies[-1]])\n",
    "plt.xlabel('Frequency (Hz)')\n",
    "plt.ylabel('Statistics - d.o.f.')\n",
    "plt.legend()\n",
    "\n",
    "plt.figure(figsize=(15, 5))\n",
    "plt.plot(freq, (zstat - nharm), label='$Z_2$ statistics')\n",
    "plt.plot(freq, efstat - nbin + 1, color='gray', label='EF statistics', alpha=0.5)\n",
    "\n",
    "plt.axvline(1/period, color='r', lw=3, alpha=0.5, label='Correct frequency')\n",
    "plt.axhline(z_detlev - nharm, label='$Z^2_1$ det. lev.', zorder=10)\n",
    "plt.axhline(ef_detlev - nbin + 1, label='EF det. lev.', color='gray', zorder=10)\n",
    "\n",
    "for c in cand_freqs_ef:\n",
    "    plt.axvline(c, ls='-.', label='EF Candidate', color='gray', zorder=10)\n",
    "for c in cand_freqs_z:\n",
    "    plt.axvline(c, ls='--', label='$Z^2_1$ Candidate', zorder=10)\n",
    "\n",
    "plt.xlabel('Frequency (Hz)')\n",
    "plt.ylabel('Statistics - d.o.f. (Zoom)')\n",
    "\n",
    "plt.ylim([-15, ef_detlev - nbin + 3])\n",
    "_ = plt.xlim([frequencies[0], frequencies[-1]])"
   ]
  },
  {
   "cell_type": "markdown",
   "metadata": {},
   "source": [
    "Note that the side lobes of the sinc squared-like shape are producing spurious candidates here. For now, we do not have a method to eliminate these fairly obvious patterns, but it will be implemented in future releases"
   ]
  },
  {
   "cell_type": "markdown",
   "metadata": {},
   "source": [
    "# Fit peak with Sinc-squared and Gaussian functions\n",
    "\n",
    "As we saw earlier, if the pulse frequency is stable during the observation, the peak shape is a **Sinc squared function**. Therefore we fit it to the peak with the function `stingray.pulse.modeling.fit_sinc`.  \n",
    "We have two possibilities:\n",
    "\n",
    "+ if `obs_length` is the length of the observation. If it is defined, it fixes width to $1/(\\pi*obs length)$, as expected from epoch folding periodograms. The other two free parameters are `amplitude` and `mean`.\n",
    "+ if it is not defined, the `width` parameter can be used.\n",
    "\n",
    "On the other hand, if the pulse frequency varies slightly, the peak oscillate and the integrated profile is a bell-shaped function. We can fit it with a **Gaussian function**  (`stingray.pulse.modeling.fit_gaussian`) with the standard parameters: `amplitude`, `mean`, `stddev`.\n",
    "\n",
    "We also provide the user with the constrains `fixed`, `tied`, `bounds`, in order to fix, link and/or constrain parameters.\n",
    "\n",
    "\n"
   ]
  },
  {
   "cell_type": "code",
   "execution_count": null,
   "metadata": {
    "collapsed": true,
    "jupyter": {
     "outputs_hidden": true
    }
   },
   "outputs": [],
   "source": [
    "from stingray.pulse.modeling import fit_sinc\n",
    "\n",
    "fs=fit_sinc(freq, efstat-(nbin-1),amp=max(efstat-(nbin-1)), mean=cand_freqs_ef[0], \n",
    "            obs_length=obs_length)"
   ]
  },
  {
   "cell_type": "code",
   "execution_count": null,
   "metadata": {},
   "outputs": [],
   "source": [
    "# ---- PLOTTING --------\n",
    "plt.figure()\n",
    "plt.plot(freq, efstat-(nbin-1), label='EF statistics')\n",
    "plt.plot(freq, fs(freq), label='Best fit')\n",
    "plt.axvline(1/period, lw=3, alpha=0.5, color='r', label='Correct frequency')\n",
    "plt.axvline(fs.mean[0], label='Fit frequency')\n",
    "\n",
    "plt.xlabel('Frequency (Hz)')\n",
    "plt.ylabel('EF Statistics')\n",
    "plt.legend()\n",
    "\n",
    "plt.figure(figsize=(15, 5))\n",
    "plt.plot(freq, efstat-(nbin-1)-fs(freq))\n",
    "plt.xlabel('Frequency (Hz)')\n",
    "_ = plt.ylabel('Residuals')"
   ]
  },
  {
   "cell_type": "markdown",
   "metadata": {},
   "source": [
    "On the other hand, if we want to fit with a Gaussian:"
   ]
  },
  {
   "cell_type": "code",
   "execution_count": null,
   "metadata": {
    "collapsed": true,
    "jupyter": {
     "outputs_hidden": true
    }
   },
   "outputs": [],
   "source": [
    "from stingray.pulse.modeling import fit_gaussian\n",
    "\n",
    "fg=fit_gaussian(freq, efstat-(nbin-1),amplitude=max(efstat-(nbin-1)), \n",
    "                mean=cand_freqs_ef[0], stddev=1/(np.pi*obs_length))"
   ]
  },
  {
   "cell_type": "code",
   "execution_count": null,
   "metadata": {},
   "outputs": [],
   "source": [
    "# ---- PLOTTING --------\n",
    "plt.figure()\n",
    "plt.plot(freq, efstat-(nbin-1), label='EF statistics')\n",
    "plt.plot(freq, fg(freq), label='Best fit')\n",
    "plt.axvline(1/period, alpha=0.5, color='r', label='Correct frequency')\n",
    "plt.axvline(fg.mean[0], alpha=0.5, label='Fit frequency')\n",
    "\n",
    "plt.xlabel('Frequency (Hz)')\n",
    "plt.ylabel('EF Statistics')\n",
    "plt.legend()\n",
    "\n",
    "plt.figure(figsize=(15, 5))\n",
    "plt.plot(freq, efstat-(nbin-1)-fg(freq))\n",
    "plt.xlabel('Frequency (Hz)')\n",
    "_ = plt.ylabel('Residuals')"
   ]
  },
  {
   "cell_type": "markdown",
   "metadata": {},
   "source": [
    "# Phaseogram\n",
    "\n",
    "Let us now calculate the phaseogram and plot it with the pulse profile. \n",
    "We do that with the functions `phaseogram`, `plot_profile` and `plot_phaseogram` from `stingray.pulse.search`"
   ]
  },
  {
   "cell_type": "code",
   "execution_count": null,
   "metadata": {},
   "outputs": [],
   "source": [
    "from stingray.pulse.search import phaseogram, plot_phaseogram, plot_profile\n",
    "from matplotlib.gridspec import GridSpec\n",
    "\n",
    "# Calculate the phaseogram\n",
    "phaseogr, phases, times, additional_info = \\\n",
    "            phaseogram(events.time, cand_freqs_ef[0], return_plot=True, nph=nbin, nt=32)\n",
    "    \n",
    "# ---- PLOTTING --------\n",
    "\n",
    "# Plot on a grid\n",
    "plt.figure(figsize=(15, 15))\n",
    "gs = GridSpec(2, 1, height_ratios=(1, 3))\n",
    "ax0 = plt.subplot(gs[0])\n",
    "ax1 = plt.subplot(gs[1], sharex=ax0)\n",
    "\n",
    "mean_phases = (phases[:-1] + phases[1:]) / 2\n",
    "plot_profile(mean_phases, np.sum(phaseogr, axis=1), ax=ax0)\n",
    "# Note that we can pass arguments to plt.pcolormesh, in this case vmin\n",
    "_ = plot_phaseogram(phaseogr, phases, times, ax=ax1, vmin=np.median(phaseogr))"
   ]
  },
  {
   "cell_type": "markdown",
   "metadata": {},
   "source": [
    "## Examples of interactive phaseograms\n",
    "\n",
    "### First: shift the rows of the phaseogram interactively"
   ]
  },
  {
   "cell_type": "code",
   "execution_count": null,
   "metadata": {
    "collapsed": true,
    "jupyter": {
     "outputs_hidden": true
    }
   },
   "outputs": [],
   "source": [
    "def shift_phaseogram(phaseogr, tseg, delay_fun):\n",
    "    \"\"\"Shift the phaseogram rows according to an input delay function.\n",
    "\n",
    "    Parameters\n",
    "    ----------\n",
    "    phaseogr : 2-d array\n",
    "        The phaseogram, as returned by ``phaseogram``\n",
    "    freq : float\n",
    "        The pulse frequency\n",
    "    tseg : float\n",
    "        The integration time for each row of the phaseogram\n",
    "    delay_fun : function\n",
    "        Function that gives the delay (in seconds) for each row of the\n",
    "        phaseogram\n",
    "\n",
    "    Returns\n",
    "    -------\n",
    "    phaseogram_new : 2-d array\n",
    "        The shifted phaseogram\n",
    "\n",
    "    \"\"\"\n",
    "    # Assume that the phaseogram is repeated twice in phase\n",
    "    nbin = phaseogr.shape[0] / 2\n",
    "    ntimes = phaseogr.shape[1]\n",
    "\n",
    "    times = np.arange(0, tseg * ntimes, tseg)\n",
    "    phase_delays = delay_fun(times)  # This gives the delay in units of time!\n",
    "\n",
    "    delayed_bins = np.array(np.rint(phase_delays * nbin), dtype=int)\n",
    "    phaseogram_new = np.copy(phaseogr)\n",
    "    for i in range(ntimes):\n",
    "        phaseogram_new[:, i] = np.roll(phaseogram_new[:, i], \n",
    "                                       delayed_bins[i])\n",
    "\n",
    "    return phaseogram_new\n",
    "\n",
    "\n",
    "def interactive_phaseogram(phas, binx, biny, df=0, dfdot=0):\n",
    "    import matplotlib.pyplot as plt\n",
    "    from matplotlib.widgets import Slider, Button, RadioButtons\n",
    "\n",
    "    fig, ax = plt.subplots()\n",
    "    plt.subplots_adjust(left=0.25, bottom=0.30)\n",
    "    tseg = np.median(np.diff(biny))\n",
    "    tobs = tseg * phas.shape[0]\n",
    "    delta_df_start = 2 / tobs\n",
    "    df_order_of_mag = int(np.log10(delta_df_start))\n",
    "    delta_df = delta_df_start / 10 ** df_order_of_mag\n",
    "\n",
    "    delta_dfdot_start = 8 / tobs ** 2\n",
    "    dfdot_order_of_mag = int(np.log10(delta_dfdot_start))\n",
    "    delta_dfdot = delta_dfdot_start / 10 ** dfdot_order_of_mag\n",
    "\n",
    "    pcolor = plt.pcolormesh(binx, biny, phas.T, cmap='magma')\n",
    "    l,  = plt.plot(np.ones_like(biny), biny, zorder=10, lw=2, color='w')\n",
    "    plt.xlabel('Phase')\n",
    "    plt.ylabel('Times')\n",
    "    plt.colorbar()\n",
    "\n",
    "    axcolor = 'lightgoldenrodyellow'\n",
    "    axfreq = plt.axes([0.25, 0.1, 0.5, 0.03], facecolor=axcolor)\n",
    "    axfdot = plt.axes([0.25, 0.15, 0.5, 0.03], facecolor=axcolor)\n",
    "    axpepoch = plt.axes([0.25, 0.2, 0.5, 0.03], facecolor=axcolor)\n",
    "\n",
    "    sfreq = Slider(axfreq, 'Delta freq x$10^{}$'.format(df_order_of_mag), \n",
    "                   -delta_df, delta_df, valinit=df)\n",
    "    sfdot = Slider(axfdot, 'Delta fdot x$10^{}$'.format(dfdot_order_of_mag), \n",
    "                   -delta_dfdot, delta_dfdot, valinit=dfdot)\n",
    "    spepoch = Slider(axpepoch, 'Delta pepoch', \n",
    "                     0, biny[-1] - biny[0], valinit=0)\n",
    "\n",
    "    def update(val):\n",
    "        fdot = sfdot.val * 10 ** dfdot_order_of_mag\n",
    "        freq = sfreq.val * 10 ** df_order_of_mag\n",
    "        pepoch = spepoch.val\n",
    "        delay_fun = lambda times: (times - pepoch) * freq + \\\n",
    "                                   0.5 * (times - pepoch) ** 2 * fdot\n",
    "        new_phaseogram = shift_phaseogram(phas, tseg, delay_fun)\n",
    "        pcolor.set_array(new_phaseogram.T.ravel())\n",
    "        l.set_xdata(1 + delay_fun(biny - biny[0]))\n",
    "        fig.canvas.draw_idle()\n",
    "\n",
    "    resetax = plt.axes([0.8, 0.020, 0.1, 0.04])\n",
    "    button = Button(resetax, 'Reset', color=axcolor, hovercolor='0.975')\n",
    "\n",
    "    def reset(event):\n",
    "        sfreq.reset()\n",
    "        sfdot.reset()\n",
    "        spepoch.reset()\n",
    "        pcolor.set_array(phas.T.ravel())\n",
    "        l.set_xdata(1)\n",
    "\n",
    "    button.on_clicked(reset)\n",
    "\n",
    "    sfreq.on_changed(update)\n",
    "    sfdot.on_changed(update)\n",
    "    spepoch.on_changed(update)\n",
    "    \n",
    "    spepoch._dummy_reset_button_ref = button\n",
    "\n",
    "    plt.show()\n",
    "    return "
   ]
  },
  {
   "cell_type": "code",
   "execution_count": null,
   "metadata": {},
   "outputs": [],
   "source": [
    "# f0 = 0.0001\n",
    "# fdot = 0\n",
    "# delay_fun = lambda times: times * f0 + 0.5 * times ** 2 * fdot\n",
    "\n",
    "# new_phaseogr = shift_phaseogram(phaseogr, times[1] - times[0], delay_fun)\n",
    "# _ = plot_phaseogram(new_phaseogr, phases, times, vmin=np.median(phaseogr))"
   ]
  },
  {
   "cell_type": "code",
   "execution_count": null,
   "metadata": {},
   "outputs": [],
   "source": [
    "interactive_phaseogram(phaseogr, phases, times, df=0, dfdot=0)"
   ]
  },
  {
   "cell_type": "markdown",
   "metadata": {},
   "source": [
    "### Second: overplot a line with a pulse frequency solution, then update the full phaseogram\n",
    "\n",
    "This interactive phaseogram is implemented in `HENDRICS`, in the script `HENphaseogram`"
   ]
  },
  {
   "cell_type": "code",
   "execution_count": null,
   "metadata": {
    "collapsed": true,
    "jupyter": {
     "outputs_hidden": true
    }
   },
   "outputs": [],
   "source": [
    "class InteractivePhaseogram(object):\n",
    "    def __init__(self, ev_times, freq, nph=128, nt=128, fdot=0, fddot=0):\n",
    "        import matplotlib.pyplot as plt\n",
    "        from matplotlib.widgets import Slider, Button, RadioButtons\n",
    "\n",
    "        self.df=0\n",
    "        self.dfdot=0\n",
    "        \n",
    "        self.freq = freq\n",
    "        self.fdot = fdot\n",
    "        self.nt = nt\n",
    "        self.nph = nph\n",
    "        self.ev_times = ev_times\n",
    "\n",
    "        self.phaseogr, phases, times, additional_info = \\\n",
    "                phaseogram(ev_times, freq, return_plot=True, nph=nph, nt=nt, \n",
    "                           fdot=fdot, fddot=fddot, plot=False)\n",
    "        self.phases, self.times = phases, times\n",
    "        self.fig, ax = plt.subplots()\n",
    "        plt.subplots_adjust(left=0.25, bottom=0.30)\n",
    "        tseg = np.median(np.diff(times))\n",
    "        tobs = tseg * nt\n",
    "        delta_df_start = 2 / tobs\n",
    "        self.df_order_of_mag = int(np.log10(delta_df_start))\n",
    "        delta_df = delta_df_start / 10 ** self.df_order_of_mag\n",
    "\n",
    "        delta_dfdot_start = 2 / tobs ** 2\n",
    "        self.dfdot_order_of_mag = int(np.log10(delta_dfdot_start))\n",
    "        delta_dfdot = delta_dfdot_start / 10 ** self.dfdot_order_of_mag\n",
    "\n",
    "        self.pcolor = plt.pcolormesh(phases, times, self.phaseogr.T, cmap='magma')\n",
    "        self.l1,  = plt.plot(np.zeros_like(times) + 0.5, times, zorder=10, lw=2, color='w')\n",
    "        self.l2,  = plt.plot(np.ones_like(times), times, zorder=10, lw=2, color='w')\n",
    "        self.l3,  = plt.plot(np.ones_like(times) + 0.5, times, zorder=10, lw=2, color='w')\n",
    "\n",
    "        plt.xlabel('Phase')\n",
    "        plt.ylabel('Time')\n",
    "        plt.colorbar()\n",
    "\n",
    "        axcolor = 'lightgoldenrodyellow'\n",
    "        self.axfreq = plt.axes([0.25, 0.1, 0.5, 0.03], facecolor=axcolor)\n",
    "        self.axfdot = plt.axes([0.25, 0.15, 0.5, 0.03], facecolor=axcolor)\n",
    "        self.axpepoch = plt.axes([0.25, 0.2, 0.5, 0.03], facecolor=axcolor)\n",
    "\n",
    "        self.sfreq = Slider(self.axfreq, 'Delta freq x$10^{}$'.format(self.df_order_of_mag), \n",
    "                       -delta_df, delta_df, valinit=self.df)\n",
    "        self.sfdot = Slider(self.axfdot, 'Delta fdot x$10^{}$'.format(self.dfdot_order_of_mag), \n",
    "                       -delta_dfdot, delta_dfdot, valinit=self.dfdot)\n",
    "        self.spepoch = Slider(self.axpepoch, 'Delta pepoch', \n",
    "                         0, times[-1] - times[0], valinit=0)\n",
    "\n",
    "        self.sfreq.on_changed(self.update)\n",
    "        self.sfdot.on_changed(self.update)\n",
    "        self.spepoch.on_changed(self.update)\n",
    "\n",
    "        self.resetax = plt.axes([0.8, 0.020, 0.1, 0.04])\n",
    "        self.button = Button(self.resetax, 'Reset', color=axcolor, hovercolor='0.975')\n",
    "\n",
    "        self.recalcax = plt.axes([0.6, 0.020, 0.1, 0.04])\n",
    "        self.button_recalc = Button(self.recalcax, 'Recalculate', color=axcolor, hovercolor='0.975')\n",
    "\n",
    "        self.button.on_clicked(self.reset)\n",
    "        self.button_recalc.on_clicked(self.recalculate)\n",
    "\n",
    "        plt.show()\n",
    "\n",
    "    def update(self, val):\n",
    "        fdot = self.sfdot.val * 10 ** self.dfdot_order_of_mag\n",
    "        freq = self.sfreq.val * 10 ** self.df_order_of_mag\n",
    "        pepoch = self.spepoch.val + self.times[0]\n",
    "        delay_fun = lambda times: (times - pepoch) * freq + \\\n",
    "                                   0.5 * (times - pepoch) ** 2 * fdot\n",
    "        self.l1.set_xdata(0.5 + delay_fun(self.times - self.times[0]))\n",
    "        self.l2.set_xdata(1 + delay_fun(self.times - self.times[0]))\n",
    "        self.l3.set_xdata(1.5 + delay_fun(self.times - self.times[0]))\n",
    "\n",
    "        self.fig.canvas.draw_idle()\n",
    "\n",
    "    def recalculate(self, event):\n",
    "        dfdot = self.sfdot.val * 10 ** self.dfdot_order_of_mag\n",
    "        dfreq = self.sfreq.val * 10 ** self.df_order_of_mag\n",
    "        pepoch = self.spepoch.val + self.times[0]\n",
    "\n",
    "        self.fdot = self.fdot - dfdot\n",
    "        self.freq = self.freq - dfreq\n",
    "\n",
    "        self.phaseogr, _, _, _ = \\\n",
    "                phaseogram(self.ev_times, self.freq, fdot=self.fdot, plot=False, \n",
    "                           nph=self.nph, nt=self.nt, pepoch=pepoch)\n",
    "        \n",
    "        self.l1.set_xdata(0.5)\n",
    "        self.l2.set_xdata(1)\n",
    "        self.l3.set_xdata(1.5)\n",
    "\n",
    "        self.sfreq.reset()\n",
    "        self.sfdot.reset()\n",
    "        self.spepoch.reset()\n",
    "        \n",
    "        self.pcolor.set_array(self.phaseogr.T.ravel())\n",
    "\n",
    "        self.fig.canvas.draw()\n",
    "\n",
    "    def reset(self, event):\n",
    "        self.sfreq.reset()\n",
    "        self.sfdot.reset()\n",
    "        self.spepoch.reset()\n",
    "        self.pcolor.set_array(self.phaseogr.T.ravel())\n",
    "        self.l1.set_xdata(0.5)\n",
    "        self.l2.set_xdata(1)\n",
    "        self.l3.set_xdata(1.5)\n",
    "    \n",
    "    def get_values(self):\n",
    "        return self.freq, self.fdot"
   ]
  },
  {
   "cell_type": "code",
   "execution_count": null,
   "metadata": {},
   "outputs": [],
   "source": [
    "times_delayed = events.time + 0.5 * (events.time - events.time[0]) ** 2 * 3e-8 / cand_freqs_ef[0]\n",
    "ip = InteractivePhaseogram(times_delayed, cand_freqs_ef[0], nt=32)"
   ]
  },
  {
   "cell_type": "markdown",
   "metadata": {},
   "source": [
    "An evolved implementation of this interactive phaseogram is implemented in [HENDRICS](https://github.com/stingraysoftware/hendrics) (command line tool `HENphaseogram`)"
   ]
  }
 ],
 "metadata": {
  "kernelspec": {
   "display_name": "stingray",
   "language": "python",
   "name": "stingray"
  },
  "language_info": {
   "codemirror_mode": {
    "name": "ipython",
    "version": 3
   },
   "file_extension": ".py",
   "mimetype": "text/x-python",
   "name": "python",
   "nbconvert_exporter": "python",
   "pygments_lexer": "ipython3",
   "version": "3.11.0"
  },
  "vscode": {
   "interpreter": {
    "hash": "b7a0f0345bf008463265b97b79e6b6ac46fd48f5252c12e26d20b6a21351a366"
   }
  }
 },
 "nbformat": 4,
 "nbformat_minor": 4
}
